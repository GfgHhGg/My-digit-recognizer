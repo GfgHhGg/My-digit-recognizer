{
 "cells": [
  {
   "cell_type": "code",
   "execution_count": 1,
   "metadata": {},
   "outputs": [],
   "source": [
    "# necessary libraries\n",
    "import numpy as np\n",
    "import matplotlib.pyplot as plt\n",
    "import math\n",
    "import sys"
   ]
  },
  {
   "cell_type": "markdown",
   "metadata": {},
   "source": [
    "# Preparation of training and validation datasets"
   ]
  },
  {
   "cell_type": "markdown",
   "metadata": {},
   "source": [
    "The data was taken from <a href=\"https://www.kaggle.com/c/digit-recognizer/data\">kaggle competition</a>"
   ]
  },
  {
   "cell_type": "code",
   "execution_count": 2,
   "metadata": {},
   "outputs": [],
   "source": [
    "# max 42000\n",
    "train_size = 32000\n",
    "validation_size = 10000"
   ]
  },
  {
   "cell_type": "code",
   "execution_count": 3,
   "metadata": {},
   "outputs": [
    {
     "data": {
      "text/plain": [
       "(32000, 784)"
      ]
     },
     "execution_count": 3,
     "metadata": {},
     "output_type": "execute_result"
    }
   ],
   "source": [
    "x_train = np.genfromtxt('mnist/train.csv',delimiter=',', skip_header=1, skip_footer=42000 - train_size)[:, 1:]\n",
    "x_train.shape"
   ]
  },
  {
   "cell_type": "code",
   "execution_count": 4,
   "metadata": {},
   "outputs": [
    {
     "data": {
      "text/plain": [
       "(32000, 1)"
      ]
     },
     "execution_count": 4,
     "metadata": {},
     "output_type": "execute_result"
    }
   ],
   "source": [
    "y_train = np.genfromtxt('mnist/train.csv',delimiter=',', skip_header=1, skip_footer=42000 - train_size)[:, 0][:, np.newaxis]\n",
    "y_train.shape"
   ]
  },
  {
   "cell_type": "code",
   "execution_count": 5,
   "metadata": {
    "scrolled": true
   },
   "outputs": [
    {
     "data": {
      "text/plain": [
       "(10000, 784)"
      ]
     },
     "execution_count": 5,
     "metadata": {},
     "output_type": "execute_result"
    }
   ],
   "source": [
    "x_validation = np.genfromtxt('mnist/train.csv',\n",
    "                        delimiter=',', \n",
    "                        skip_header=1 + train_size, \n",
    "                        skip_footer=42000 - validation_size - train_size)[:, 1:]\n",
    "x_validation.shape"
   ]
  },
  {
   "cell_type": "code",
   "execution_count": 6,
   "metadata": {},
   "outputs": [
    {
     "data": {
      "text/plain": [
       "(10000, 1)"
      ]
     },
     "execution_count": 6,
     "metadata": {},
     "output_type": "execute_result"
    }
   ],
   "source": [
    "y_validation = np.genfromtxt('mnist/train.csv',\n",
    "                        delimiter=',', \n",
    "                        skip_header=1 + train_size, \n",
    "                        skip_footer=42000 - validation_size - train_size)[:, 0][:,np.newaxis]\n",
    "y_validation.shape"
   ]
  },
  {
   "cell_type": "code",
   "execution_count": 7,
   "metadata": {},
   "outputs": [
    {
     "data": {
      "text/plain": [
       "array([3.])"
      ]
     },
     "execution_count": 7,
     "metadata": {},
     "output_type": "execute_result"
    },
    {
     "data": {
      "image/png": "[encoded data removed]",
      "text/plain": [
       "<Figure size 432x288 with 1 Axes>"
      ]
     },
     "metadata": {
      "needs_background": "light"
     },
     "output_type": "display_data"
    }
   ],
   "source": [
    "# Image size 28x28\n",
    "plt.imshow(np.array([x_train[9][i-28:i] for i in range(28,785, 28)]));\n",
    "y_train[9]"
   ]
  },
  {
   "cell_type": "markdown",
   "metadata": {},
   "source": [
    "# Activation function"
   ]
  },
  {
   "cell_type": "code",
   "execution_count": 8,
   "metadata": {},
   "outputs": [],
   "source": [
    "# Hyperbolic tangent\n",
    "def tanh(x):\n",
    "    return (math.e**x - math.e**-x) / (math.e**x + math.e**-x)\n",
    "\n",
    "# Derivative of hyperbolic tangent\n",
    "def d_tanh(x):\n",
    "    return 1 - tanh(x)**2\n",
    "\n",
    "# Softmax in output layer\n",
    "def softmax(x):\n",
    "    exps = np.exp(x - np.max(x))\n",
    "    return exps / np.sum(exps, axis=1)[:, np.newaxis]"
   ]
  },
  {
   "cell_type": "markdown",
   "metadata": {},
   "source": [
    "# Network architecture"
   ]
  },
  {
   "cell_type": "code",
   "execution_count": 9,
   "metadata": {},
   "outputs": [],
   "source": [
    "class DigitRecognizer:\n",
    "    def __init__(self, n_hidden_neurons):\n",
    "        self.n_hidden_neurons = n_hidden_neurons\n",
    "        \n",
    "        self.layer1 = np.random.random((n_hidden_neurons, 784)) - 0.5\n",
    "        self.b1 = np.random.random((1, n_hidden_neurons)) - 0.5\n",
    "        \n",
    "        self.act1 = tanh\n",
    "        self.d_act1 = d_tanh\n",
    "        \n",
    "        self.layer2 = np.random.random((10, n_hidden_neurons)) - 0.5\n",
    "        self.b2 = np.random.random((1, 10)) - 0.5\n",
    "    \n",
    "    def forward(self, x):\n",
    "        x = x / 255\n",
    "        # (n_examples, n_hidden_neurons) = (n_examples, 784) @ (n_hidden_neurons, 784).T\n",
    "        x = x @ self.layer1.T\n",
    "        # (n_examples, n_hidden_neurons) += (1, n_hidden_neurons)\n",
    "        x += self.b1\n",
    "        self.sum1 = x\n",
    "        # (n_examples, n_hidden_neurons)\n",
    "        x = self.act1(x)\n",
    "        # (n_examples, 10) = (n_examples, n_hidden_neurons) @ (10, n_hidden_neurons).T\n",
    "        x = x @ self.layer2.T\n",
    "        # (n_examples, 10) += (1, 10)\n",
    "        x += self.b2\n",
    "        self.sum2 = x\n",
    "        # (n_examples, 10)\n",
    "        return softmax(x)\n",
    "    \n",
    "n_neurons = 100 # You can change number of neurnons\n",
    "net = DigitRecognizer(n_neurons) "
   ]
  },
  {
   "cell_type": "code",
   "execution_count": 10,
   "metadata": {},
   "outputs": [
    {
     "data": {
      "text/plain": [
       "0.0853"
      ]
     },
     "execution_count": 10,
     "metadata": {},
     "output_type": "execute_result"
    }
   ],
   "source": [
    "def accuracy(x, y):\n",
    "    return np.sum(net.forward(x).argmax(axis=1)[:,np.newaxis] == y) / len(y)\n",
    "accuracy(x_validation, y_validation)"
   ]
  },
  {
   "cell_type": "markdown",
   "metadata": {},
   "source": [
    "# Cross entropy loss"
   ]
  },
  {
   "cell_type": "code",
   "execution_count": 11,
   "metadata": {},
   "outputs": [],
   "source": [
    "def cross_entropy(y_pred, y):\n",
    "    m = y.shape[0]\n",
    "    log_likelihood = -np.log(y_pred[range(m),y.reshape(m).astype(int)])\n",
    "    loss = np.sum(log_likelihood) / m\n",
    "    return loss\n",
    "\n",
    "# derivative of cross entropy with softmax\n",
    "def d_ce(y_pred, y):\n",
    "    ans = np.copy(y_pred)\n",
    "    ans[range(len(y)), y.reshape(len(y)).astype(int)] = -1 + y_pred[range(len(y)), y.reshape(len(y)).astype(int)]\n",
    "    return ans"
   ]
  },
  {
   "cell_type": "code",
   "execution_count": 12,
   "metadata": {},
   "outputs": [
    {
     "data": {
      "text/plain": [
       "4.361666794158904"
      ]
     },
     "execution_count": 12,
     "metadata": {},
     "output_type": "execute_result"
    }
   ],
   "source": [
    "cross_entropy(net.forward(x_validation), y_validation)"
   ]
  },
  {
   "cell_type": "markdown",
   "metadata": {},
   "source": [
    "# Learning process (back propagation algorithm)"
   ]
  },
  {
   "cell_type": "code",
   "execution_count": 13,
   "metadata": {},
   "outputs": [],
   "source": [
    "n_epoch = 50\n",
    "\n",
    "ce_hist = np.zeros(n_epoch) # history of accuracy changes\n",
    "ac_hist = np.zeros(n_epoch) # history of cross-entropy changes"
   ]
  },
  {
   "cell_type": "code",
   "execution_count": 14,
   "metadata": {},
   "outputs": [],
   "source": [
    "def train(net, x, y, lr):\n",
    "    # (n_examples, 10)\n",
    "    y_pred = net.forward(x)\n",
    "    \n",
    "    # (n_examples, 10)\n",
    "    error_2 = d_ce(y_pred, y)\n",
    "    # (1, 10) -= () * (1, 10)\n",
    "    net.b2 -= lr * np.sum(error_2, axis=0)[np.newaxis,]\n",
    "    # (10, n_neurons)-=()*(n_examples, 10).T @ (n_examples, n_neurons)\n",
    "    net.layer2 -= lr * error_2.T @ net.act1(net.sum1)\n",
    "    \n",
    "    # (n_examples, n_neurons) = (n_examples, 10) @ (10, n_neurons) * (n_examples, n_neurons)\n",
    "    error_1 = error_2 @ net.layer2 * net.d_act1(net.sum1)\n",
    "    # (1, n_neurons)-=()*(1, n_neurons)\n",
    "    net.b1 -= lr * np.sum(error_1 ,axis=0)[np.newaxis,]\n",
    "    # (n_neurons, 784) -= lr * (n_examples, n_neurons).T @ (n_examples, 784)\n",
    "    net.layer1 -= lr * error_1.T @ (x / 255)"
   ]
  },
  {
   "cell_type": "code",
   "execution_count": 15,
   "metadata": {
    "scrolled": false
   },
   "outputs": [
    {
     "name": "stdout",
     "output_type": "stream",
     "text": [
      "Epoch: 50 Accuracy: 0.9539 CE: 0.1496990746285911     "
     ]
    }
   ],
   "source": [
    "batch_size = 500\n",
    "lr = 0.001\n",
    "\n",
    "for i in range(n_epoch):\n",
    "    for j in range(batch_size, train_size + 1, batch_size):\n",
    "        train(net, x_train[j - batch_size: j], y_train[j - batch_size: j], lr)\n",
    "    \n",
    "    ce_hist[i] = cross_entropy(net.forward(x_validation), y_validation)\n",
    "    ac_hist[i] = accuracy(x_validation, y_validation)\n",
    "    \n",
    "    sys.stdout.write(\"\\r\" + 'Epoch: '+str(i + 1)+' Accuracy: '+str(ac_hist[i])+' CE: '+str(ce_hist[i])+'    ')\n",
    "    sys.stdout.flush()"
   ]
  },
  {
   "cell_type": "markdown",
   "metadata": {},
   "source": [
    "## Results"
   ]
  },
  {
   "cell_type": "markdown",
   "metadata": {},
   "source": [
    "### Cross-entropy"
   ]
  },
  {
   "cell_type": "code",
   "execution_count": 16,
   "metadata": {},
   "outputs": [
    {
     "data": {
      "image/png": "[encoded data removed]",
      "text/plain": [
       "<Figure size 432x288 with 1 Axes>"
      ]
     },
     "metadata": {
      "needs_background": "light"
     },
     "output_type": "display_data"
    }
   ],
   "source": [
    "plt.plot(ce_hist)\n",
    "plt.ylabel('Cross-entropy value')\n",
    "plt.xlabel('Epoch');"
   ]
  },
  {
   "cell_type": "markdown",
   "metadata": {},
   "source": [
    "### Accuracy"
   ]
  },
  {
   "cell_type": "code",
   "execution_count": 17,
   "metadata": {},
   "outputs": [
    {
     "data": {
      "image/png": "[encoded data removed]",
      "text/plain": [
       "<Figure size 432x288 with 1 Axes>"
      ]
     },
     "metadata": {
      "needs_background": "light"
     },
     "output_type": "display_data"
    }
   ],
   "source": [
    "plt.plot(ac_hist)\n",
    "plt.ylabel('Accuracy')\n",
    "plt.xlabel('Epoch');"
   ]
  },
  {
   "cell_type": "markdown",
   "metadata": {},
   "source": [
    "## Test it by yourself"
   ]
  },
  {
   "cell_type": "markdown",
   "metadata": {},
   "source": [
    "### N-th image from mnist"
   ]
  },
  {
   "cell_type": "code",
   "execution_count": 18,
   "metadata": {},
   "outputs": [
    {
     "name": "stdout",
     "output_type": "stream",
     "text": [
      "9  - answer\n",
      "9  - network output\n"
     ]
    },
    {
     "data": {
      "image/png": "[encoded data removed]",
      "text/plain": [
       "<Figure size 432x288 with 1 Axes>"
      ]
     },
     "metadata": {
      "needs_background": "light"
     },
     "output_type": "display_data"
    }
   ],
   "source": [
    "n = 71\n",
    "plt.imshow(np.array([x_train[n][i-28:i] for i in range(28,785, 28)]));\n",
    "print(int(y_train[n][0]), \" - answer\")\n",
    "print(net.forward(x_train[n][np.newaxis,]).argmax(), \" - network output\")"
   ]
  },
  {
   "cell_type": "markdown",
   "metadata": {},
   "source": [
    "### Your image"
   ]
  },
  {
   "cell_type": "code",
   "execution_count": 19,
   "metadata": {},
   "outputs": [],
   "source": [
    "import matplotlib.image as mpimg"
   ]
  },
  {
   "cell_type": "code",
   "execution_count": 20,
   "metadata": {},
   "outputs": [
    {
     "data": {
      "text/plain": [
       "2"
      ]
     },
     "execution_count": 20,
     "metadata": {},
     "output_type": "execute_result"
    },
    {
     "data": {
      "image/png": "[encoded data removed]",
      "text/plain": [
       "<Figure size 432x288 with 1 Axes>"
      ]
     },
     "metadata": {
      "needs_background": "light"
     },
     "output_type": "display_data"
    }
   ],
   "source": [
    "image = mpimg.imread('mnist/2.png')\n",
    "vector_img = np.array(1 - image[:,:, 0]) * 255\n",
    "plt.imshow(image);\n",
    "net.forward(vector_img.reshape(784)[np.newaxis,]).argmax()"
   ]
  },
  {
   "cell_type": "code",
   "execution_count": null,
   "metadata": {},
   "outputs": [],
   "source": []
  }
 ],
 "metadata": {
  "kernelspec": {
   "display_name": "Python 3",
   "language": "python",
   "name": "python3"
  },
  "language_info": {
   "codemirror_mode": {
    "name": "ipython",
    "version": 3
   },
   "file_extension": ".py",
   "mimetype": "text/x-python",
   "name": "python",
   "nbconvert_exporter": "python",
   "pygments_lexer": "ipython3",
   "version": "3.7.7"
  }
 },
 "nbformat": 4,
 "nbformat_minor": 4
}
